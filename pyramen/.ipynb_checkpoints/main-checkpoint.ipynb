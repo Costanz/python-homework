{
 "cells": [
  {
   "cell_type": "code",
   "execution_count": 7,
   "metadata": {},
   "outputs": [],
   "source": [
    "\n",
    "\n",
    "from pathlib import Path\n",
    "import csv\n",
    "\n"
   ]
  },
  {
   "cell_type": "code",
   "execution_count": 8,
   "metadata": {},
   "outputs": [],
   "source": [
    "#define csvpath\n",
    "csvpath = Path(\"menu_data.csv\")"
   ]
  },
  {
   "cell_type": "code",
   "execution_count": 9,
   "metadata": {},
   "outputs": [],
   "source": [
    "#create empty menu list\n",
    "menu = []"
   ]
  },
  {
   "cell_type": "code",
   "execution_count": 10,
   "metadata": {},
   "outputs": [
    {
     "name": "stdout",
     "output_type": "stream",
     "text": [
      "['edamame', 'appetizers', 'boiled soybeans, maldon sea salt', '4', '1']\n",
      "['house salad', 'appetizers', 'mixed greens, cherry tomatoes, cucumber, house ginger dressing', '4', '2']\n",
      "['cucumber sunomono salad', 'appetizers', 'cucumber, ponzu dressing, pickled ginger sproud, sesame seeds', '5', '2']\n",
      "['hiyashi wakame seaweed salad', 'appetizers', 'sweet soy-marinated wakame seaweed threads, pickled ginger sprout, sesame seeds', '5', '2']\n",
      "['agedashi tofu', 'appetizers', 'tempura battered tofu, katsuobushi, tsuyu broth, scallions', '5', '2']\n",
      "['hiyayakko tofu', 'appetizers', 'chilled soft tofu, house shoyu, katsuobushi, ginger, scallions', '5', '2']\n",
      "['pork floss bao', 'appetizers', 'two steamed buns, minced lean slow braised niman, ranch pork belly, cucumbers, sriracha mayo', '4', '2']\n",
      "['kakuni bao', 'appetizers', 'two steamed buns, chopped fatty slow braised niman ranch pork belly, cucumbers, house bao sauce', '6', '3']\n",
      "['edamame fried gyoza (vegan)', 'appetizers', 'six crispy fried edamame and cabbage pot stickers; ponzu rayu dipping sauce', '6', '3']\n",
      "['fried gyoza', 'appetizers', 'six cripsy fried pork and vegetable pot stickers; ponzu rayu dipping sauce', '6', '6']\n",
      "['takoyaki', 'appetizers', 'six octopus-filled fried fritters, kewpie mayo, okonomi sauce, aonori, katsuobushi, nori', '6', '3']\n",
      "['rock shrimp tempura', 'appetizers', 'deep fried tempura battered rock shrimp, sriracha mayo, nisume sauce, aonori, scallions', '6', '3']\n",
      "['soft-shell crab tempura', 'appetizers', 'single deep fried soft-shell crab, tsuyu dipping broth', '6', '3']\n",
      "['ebi katsu shrimp bao', 'appetizers', 'two steamed buns, panko-crusted fried shrimp patties, yuzu-kosho mayo, aonori, scallions', '6', '3']\n",
      "['nagomi shoyu', 'entree', 'shoyu seasoned clear double stock (organic chick broth + house dashi); slow braised niman ranch pork belly, hanjuku tamago, nori, menma, scallions', '11', '5']\n",
      "['shio ramen', 'entree', 'sea salt seasoned clear double stock (organic chicken broth + house dashi); slow braised niman ranch pork belly, hanjuku tamago, kikurage, nori, scallions', '11', '5']\n",
      "['spicy miso ramen', 'entree', 'house togarashi miso blend + niman ranch pork bone stock; slow braised niman ranch pork belly, hanjuku tamago, kikurage, nori, scallions', '12', '5']\n",
      "['vegetarian spicy miso', 'entree', 'house togarashi miso blend + vegan dashi; tempura fried tofu, sweet corn, edamame, kikurage, nori, scallions; organic soy milk upon request', '12', '5']\n",
      "['miso crab ramen', 'entree', 'house miso crab blend + vegan dashi; slow braised niman ranch pork belly, crab meat, hanjuku tamago, kikurage, nori, scallions', '12', '6']\n",
      "['soft-shell miso crab ramen', 'entree', 'house miso crab blend + vegan dashi; fried whole soft-shell crab, hanjuku tamago, kikurage, nori, scallions', '14', '7']\n",
      "['tori paitan ramen', 'entree', 'rich, shoyu seasoned double stock (organic chicken broth + house dashi); slow braised niman ranch pork belly, hanuku tamago, kikurage, nori, scllaions', '13', '6']\n",
      "['tonkotsu ramen', 'entree', 'rich, shoyi seasoned niman ranch pork bone stock; slow braised niman ranch pork belly, hanjuku tamago, kikurage, nori, spring radish, scallions', '13', '6']\n",
      "['burnt garlic tonkotsu ramen', 'entree', 'rich, shoyi and burnt garlic seasoned niman ranch pork bone stock; slow braised niman ranch pork belly, hanjuku tamago, kikurage, sweet corn, nori, scallions', '14', '6']\n",
      "['vegetarian curry + king trumpet mushroom ramen', 'entree', 'house curry blend + vegan dashi; fried king trumpet mushroom, tempura fried tofu, mung bean sprouts, kikurage, nori, scallions', '13', '7']\n",
      "['truffle butter ramen', 'entree', 'rich, shoyu seasoned niman ranch prok bone stock; truffle compound butter, slow braised niman ranch pork belly, kikurage, sweet corn, nori, scallions', '14', '7']\n",
      "['green tea', 'drinks', 'green tea', '2.5', '1']\n",
      "['coke', 'drinks', 'Coca Cola soda', '2', '1']\n",
      "['black sesame ice cream', 'desserts', 'house-made black sesame ice cream, valrhona chocolate threads, complimentary hojicha', '5', '2']\n",
      "['matcha ice cream', 'desserts', 'house-made matcha ice cream, white chocolate pearls; complimentary hojicha', '5', '2']\n",
      "['mango mochi ice cream', 'desserts', 'two rice-cake bonbons filled with strawberry ice cream; complimentary hojicha', '5', '2']\n",
      "['strawberry mochi ice cream', 'desserts', 'two rice-cake bonbons filled with strawberry ice cream; complimentary hojicha', '5', '2']\n",
      "['black sesame creme brulee', 'desserts', 'house made black sesame infused creme brulee; complimentary hojicha', '6', '3']\n"
     ]
    }
   ],
   "source": [
    "#open menu_data, put in csvreader, loop over each row and put in the menu list\n",
    "with open(csvpath, 'r')as csvfile:\n",
    "    csvreader = csv.reader(csvfile, delimiter=\",\")\n",
    "    next(csvreader)\n",
    "    for row in csvreader:\n",
    "        print(row)\n",
    "        menu.append(row)"
   ]
  },
  {
   "cell_type": "code",
   "execution_count": 11,
   "metadata": {},
   "outputs": [
    {
     "name": "stdout",
     "output_type": "stream",
     "text": [
      "32\n",
      "['edamame', 'appetizers', 'boiled soybeans, maldon sea salt', '4', '1']\n"
     ]
    }
   ],
   "source": [
    "#check to see if it worked\n",
    "print(len(menu))\n",
    "print(menu[0])"
   ]
  },
  {
   "cell_type": "code",
   "execution_count": 12,
   "metadata": {},
   "outputs": [],
   "source": [
    "#close the menu_data.csv file\n",
    "csvfile.close()\n"
   ]
  },
  {
   "cell_type": "code",
   "execution_count": 13,
   "metadata": {},
   "outputs": [],
   "source": [
    "#start process over to read in sales data\n",
    "csvpath = Path('sales_data.csv')"
   ]
  },
  {
   "cell_type": "code",
   "execution_count": 14,
   "metadata": {},
   "outputs": [],
   "source": [
    "#create empty list for sales\n",
    "sales = []"
   ]
  },
  {
   "cell_type": "code",
   "execution_count": 15,
   "metadata": {},
   "outputs": [],
   "source": [
    "#read in sales data and append to sales list\n",
    "with open(csvpath,\"r\")as csvfile:\n",
    "    csvreader=csv.reader(csvfile,delimiter=',')\n",
    "    next(csvreader)\n",
    "    for row in csvreader:\n",
    "        sales.append(row)"
   ]
  },
  {
   "cell_type": "code",
   "execution_count": 16,
   "metadata": {},
   "outputs": [
    {
     "name": "stdout",
     "output_type": "stream",
     "text": [
      "74124\n",
      "['1', '01-01-2017', '7437926611570799', '1', 'spicy miso ramen']\n"
     ]
    }
   ],
   "source": [
    "#check to see if it worked\n",
    "print(len(sales))\n",
    "print(sales[0])"
   ]
  },
  {
   "cell_type": "code",
   "execution_count": 64,
   "metadata": {},
   "outputs": [],
   "source": [
    "#create new report dictionary\n",
    "report = {}\n"
   ]
  },
  {
   "cell_type": "code",
   "execution_count": 65,
   "metadata": {},
   "outputs": [
    {
     "name": "stdout",
     "output_type": "stream",
     "text": [
      "9238\n",
      "9132\n",
      "9180\n",
      "8890\n",
      "9216\n",
      "9130\n",
      "9156\n",
      "9288\n",
      "9070\n",
      "8824\n",
      "8982\n",
      "0\n",
      "{'01-count': 9238}\n"
     ]
    }
   ],
   "source": [
    "#loop through all rows in sales and add up total quantities for each type of ramen.\n",
    "\n",
    "#Create dictionaries for each type of ramen to hold metrics\n",
    "spicy_miso_ramen_metrics = {}\n",
    "nagomi_shoyu_metrics = {}\n",
    "shio_ramen_metrics = {}\n",
    "miso_crab_ramen_metrics = {}\n",
    "vegetarian_spicy_metrics = {}\n",
    "soft_shell_miso_crab_metrics = {}\n",
    "tori_paitan_qty_metrics = {}\n",
    "tonkotsu_ramen_metrics = {}\n",
    "burnt_garlic_tonkotsu_ramen_metrics = {}\n",
    "vegetarian_curry_king_trumpet_metrics = {}\n",
    "truffle_butter_ramen_metrics = {}\n",
    "\n",
    "#set quantities to zero\n",
    "\n",
    "spicy_miso_ramen_qty = 0\n",
    "nagomi_shoyu_qty = 0\n",
    "shio_ramen_qty = 0\n",
    "miso_crab_ramen_qty = 0\n",
    "vegetarian_spicy_miso_qty = 0\n",
    "soft_shell_miso_crab_ramen_qty = 0\n",
    "tori_paitan_qty = 0\n",
    "tonkotsu_ramen_qty = 0\n",
    "burnt_garlic_tonkotsu_ramen_qty = 0\n",
    "vegetarian_curry_king_trumpet_qty = 0\n",
    "truffle_butter_ramen_qty = 0\n",
    "qty = 0   #should stay at zero as check\n",
    "\n",
    "#loop through rows, check for type of ramen, than add up quantities\n",
    "\n",
    "for row in sales:\n",
    "    if row[4]==\"spicy miso ramen\":\n",
    "        spicy_miso_ramen_qty+= int(row[3])\n",
    "    elif row[4]== \"nagomi shoyu\":\n",
    "        nagomi_shoyu_qty += int(row[3])\n",
    "    elif row[4]== \"shio ramen\":\n",
    "        shio_ramen_qty += int(row[3])\n",
    "    elif row[4] == \"miso crab ramen\":\n",
    "        miso_crab_ramen_qty += int(row[3])\n",
    "    elif row[4] == \"vegetarian spicy miso\":\n",
    "        vegetarian_spicy_miso_qty += int(row[3])\n",
    "    elif row[4] == \"soft-shell miso crab ramen\":\n",
    "        soft_shell_miso_crab_ramen_qty += int(row[3])\n",
    "    elif row[4] == \"tori paitan ramen\":\n",
    "        tori_paitan_qty += int(row[3])\n",
    "    elif row[4] == \"tonkotsu ramen\":\n",
    "        tonkotsu_ramen_qty += int(row[3])\n",
    "    elif row[4] == \"burnt garlic tonkotsu ramen\":\n",
    "        burnt_garlic_tonkotsu_ramen_qty += int(row[3])\n",
    "    elif row[4] == \"vegetarian curry + king trumpet mushroom ramen\":\n",
    "        vegetarian_curry_king_trumpet_qty += int(row[3])\n",
    "    elif row[4] == \"truffle butter ramen\":\n",
    "        truffle_butter_ramen_qty += int(row[3])\n",
    "    \n",
    "    else:\n",
    "        qty+=1  #to capture uncategorized quantities, should be zero\n",
    "        \n",
    "#print to check if it worked\n",
    "\n",
    "print(spicy_miso_ramen_qty)\n",
    "print(nagomi_shoyu_qty)\n",
    "print(shio_ramen_qty)\n",
    "print(miso_crab_ramen_qty)\n",
    "print(vegetarian_spicy_miso_qty)\n",
    "print(soft_shell_miso_crab_ramen_qty)\n",
    "print(tori_paitan_qty)\n",
    "print(tonkotsu_ramen_qty)\n",
    "print(burnt_garlic_tonkotsu_ramen_qty)\n",
    "print(vegetarian_curry_king_trumpet_qty)\n",
    "print(truffle_butter_ramen_qty)\n",
    "print(qty) #should be zero\n",
    "\n",
    "#assign key/value to the dictionaries\n",
    "\n",
    "spicy_miso_ramen_metrics['01-count'] = spicy_miso_ramen_qty\n",
    "nagomi_shoyu_metrics['01-count'] = nagomi_shoyu_qty\n",
    "shio_ramen_metrics['01-count'] = shio_ramen_qty\n",
    "miso_crab_ramen_metrics['01-count'] = miso_crab_ramen_qty\n",
    "vegetarian_spicy_metrics['01-count'] = vegetarian_spicy_miso_qty\n",
    "soft_shell_miso_crab_metrics['01-count'] = soft_shell_miso_crab_ramen_qty\n",
    "tori_paitan_qty_metrics['01-count'] = tori_paitan_qty\n",
    "tonkotsu_ramen_metrics['01-count'] = tonkotsu_ramen_qty\n",
    "burnt_garlic_tonkotsu_ramen_metrics['01-count'] = burnt_garlic_tonkotsu_ramen_qty\n",
    "vegetarian_curry_king_trumpet_metrics['01-count'] = vegetarian_curry_king_trumpet_qty\n",
    "truffle_butter_ramen_metrics['01-count'] = truffle_butter_ramen_qty\n",
    "\n",
    "print(spicy_miso_ramen_metrics)\n",
    "    "
   ]
  },
  {
   "cell_type": "code",
   "execution_count": 66,
   "metadata": {},
   "outputs": [
    {
     "name": "stdout",
     "output_type": "stream",
     "text": [
      "12\n",
      "11\n",
      "11\n",
      "12\n",
      "12\n",
      "14\n",
      "13\n",
      "13\n",
      "14\n",
      "13\n",
      "14\n"
     ]
    }
   ],
   "source": [
    "# get price for each ramen type\n",
    "\n",
    "for row in menu:        \n",
    "    if row[0]==\"spicy miso ramen\":\n",
    "        spicy_miso_ramen_price = int(row[3])\n",
    "    elif row[0]== \"nagomi shoyu\":\n",
    "        nagomi_shoyu_price = int(row[3])\n",
    "    elif row[0]== \"shio ramen\":\n",
    "        shio_ramen_price = int(row[3])\n",
    "    elif row[0] == \"miso crab ramen\":\n",
    "        miso_crab_ramen_price = int(row[3])\n",
    "    elif row[0] == \"vegetarian spicy miso\":\n",
    "        vegetarian_spicy_miso_price = int(row[3])\n",
    "    elif row[0] == \"soft-shell miso crab ramen\":\n",
    "        soft_shell_miso_crab_ramen_price = int(row[3])\n",
    "    elif row[0] == \"tori paitan ramen\":\n",
    "        tori_paitan_price = int(row[3])\n",
    "    elif row[0] == \"tonkotsu ramen\":\n",
    "        tonkotsu_ramen_price = int(row[3])\n",
    "    elif row[0] == \"burnt garlic tonkotsu ramen\":\n",
    "        burnt_garlic_tonkotsu_ramen_price = int(row[3])\n",
    "    elif row[0] == \"vegetarian curry + king trumpet mushroom ramen\":\n",
    "        vegetarian_curry_king_trumpet_price = int(row[3])\n",
    "    elif row[0] == \"truffle butter ramen\":\n",
    "        truffle_butter_ramen_price = int(row[3])\n",
    "    else:\n",
    "        pass\n",
    "#print to check\n",
    "    \n",
    "print(spicy_miso_ramen_price)\n",
    "print(nagomi_shoyu_price)\n",
    "print(shio_ramen_price)\n",
    "print(miso_crab_ramen_price)\n",
    "print(vegetarian_spicy_miso_price)\n",
    "print(soft_shell_miso_crab_ramen_price)\n",
    "print(tori_paitan_price)\n",
    "print(tonkotsu_ramen_price)\n",
    "print(burnt_garlic_tonkotsu_ramen_price)\n",
    "print(vegetarian_curry_king_trumpet_price)\n",
    "print(truffle_butter_ramen_price)\n",
    "\n"
   ]
  },
  {
   "cell_type": "code",
   "execution_count": 67,
   "metadata": {},
   "outputs": [],
   "source": [
    "#compute revenue for each ramen type, multiply price*quantity\n",
    "\n",
    "spicy_miso_ramen_rev = spicy_miso_ramen_price*spicy_miso_ramen_qty\n",
    "nagomi_shoyu_rev = nagomi_shoyu_price*nagomi_shoyu_qty\n",
    "shio_ramen_rev = shio_ramen_price*shio_ramen_qty\n",
    "miso_crab_ramen_rev = miso_crab_ramen_price*miso_crab_ramen_qty\n",
    "vegetarian_spicy_miso_rev = vegetarian_spicy_miso_price*vegetarian_spicy_miso_qty\n",
    "soft_shell_miso_crab_ramen_rev = soft_shell_miso_crab_ramen_price*soft_shell_miso_crab_ramen_qty\n",
    "tori_paitan_rev = tori_paitan_price*tori_paitan_qty\n",
    "tonkotsu_ramen_rev = tonkotsu_ramen_price*tonkotsu_ramen_qty\n",
    "burnt_garlic_tonkotsu_ramen_rev = burnt_garlic_tonkotsu_ramen_price*burnt_garlic_tonkotsu_ramen_qty\n",
    "vegetarian_curry_king_trumpet_rev = vegetarian_curry_king_trumpet_price*vegetarian_curry_king_trumpet_qty\n",
    "truffle_butter_ramen_rev = truffle_butter_ramen_price*truffle_butter_ramen_qty\n",
    "\n"
   ]
  },
  {
   "cell_type": "code",
   "execution_count": 68,
   "metadata": {},
   "outputs": [
    {
     "name": "stdout",
     "output_type": "stream",
     "text": [
      "{'01-count': 9238, '02-rev': 110856}\n",
      "{'01-count': 8982, '02-rev': 125748}\n"
     ]
    }
   ],
   "source": [
    "#assign key/value to the dictionaries\n",
    "\n",
    "spicy_miso_ramen_metrics['02-rev'] = spicy_miso_ramen_rev\n",
    "nagomi_shoyu_metrics['02-rev'] = nagomi_shoyu_rev\n",
    "shio_ramen_metrics['02-rev'] = shio_ramen_rev\n",
    "miso_crab_ramen_metrics['02-rev'] = miso_crab_ramen_rev\n",
    "vegetarian_spicy_metrics['02-rev'] = vegetarian_spicy_miso_rev\n",
    "soft_shell_miso_crab_metrics['02-rev'] = soft_shell_miso_crab_ramen_rev\n",
    "tori_paitan_qty_metrics['02-rev'] = tori_paitan_rev\n",
    "tonkotsu_ramen_metrics['02-rev'] = tonkotsu_ramen_rev\n",
    "burnt_garlic_tonkotsu_ramen_metrics['02-rev'] = burnt_garlic_tonkotsu_ramen_rev\n",
    "vegetarian_curry_king_trumpet_metrics['02-rev'] = vegetarian_curry_king_trumpet_rev\n",
    "truffle_butter_ramen_metrics['02-rev'] = truffle_butter_ramen_rev\n",
    "\n",
    "#check first and last\n",
    "print(spicy_miso_ramen_metrics)\n",
    "print(truffle_butter_ramen_metrics)"
   ]
  },
  {
   "cell_type": "code",
   "execution_count": 69,
   "metadata": {},
   "outputs": [
    {
     "name": "stdout",
     "output_type": "stream",
     "text": [
      "5\n",
      "5\n",
      "5\n",
      "6\n",
      "5\n",
      "7\n",
      "6\n",
      "6\n",
      "6\n",
      "7\n",
      "7\n"
     ]
    }
   ],
   "source": [
    "# get cost for each ramen type\n",
    "\n",
    "for row in menu:        \n",
    "    if row[0]==\"spicy miso ramen\":\n",
    "        spicy_miso_ramen_cost = int(row[4])\n",
    "    elif row[0]== \"nagomi shoyu\":\n",
    "        nagomi_shoyu_cost = int(row[4])\n",
    "    elif row[0]== \"shio ramen\":\n",
    "        shio_ramen_cost = int(row[4])\n",
    "    elif row[0] == \"miso crab ramen\":\n",
    "        miso_crab_ramen_cost = int(row[4])\n",
    "    elif row[0] == \"vegetarian spicy miso\":\n",
    "        vegetarian_spicy_miso_cost = int(row[4])\n",
    "    elif row[0] == \"soft-shell miso crab ramen\":\n",
    "        soft_shell_miso_crab_ramen_cost = int(row[4])\n",
    "    elif row[0] == \"tori paitan ramen\":\n",
    "        tori_paitan_cost = int(row[4])\n",
    "    elif row[0] == \"tonkotsu ramen\":\n",
    "        tonkotsu_ramen_cost = int(row[4])\n",
    "    elif row[0] == \"burnt garlic tonkotsu ramen\":\n",
    "        burnt_garlic_tonkotsu_ramen_cost = int(row[4])\n",
    "    elif row[0] == \"vegetarian curry + king trumpet mushroom ramen\":\n",
    "        vegetarian_curry_king_trumpet_cost = int(row[4])\n",
    "    elif row[0] == \"truffle butter ramen\":\n",
    "        truffle_butter_ramen_cost = int(row[4])\n",
    "    else:\n",
    "        pass\n",
    "#print to check\n",
    "    \n",
    "print(spicy_miso_ramen_cost)\n",
    "print(nagomi_shoyu_cost)\n",
    "print(shio_ramen_cost)\n",
    "print(miso_crab_ramen_cost)\n",
    "print(vegetarian_spicy_miso_cost)\n",
    "print(soft_shell_miso_crab_ramen_cost)\n",
    "print(tori_paitan_cost)\n",
    "print(tonkotsu_ramen_cost)\n",
    "print(burnt_garlic_tonkotsu_ramen_cost)\n",
    "print(vegetarian_curry_king_trumpet_cost)\n",
    "print(truffle_butter_ramen_cost)\n"
   ]
  },
  {
   "cell_type": "code",
   "execution_count": 70,
   "metadata": {},
   "outputs": [],
   "source": [
    "#compute COGS for each ramen type, multiply cost*quantity\n",
    "\n",
    "spicy_miso_ramen_cogs = spicy_miso_ramen_cost*spicy_miso_ramen_qty\n",
    "nagomi_shoyu_cogs = nagomi_shoyu_cost*nagomi_shoyu_qty\n",
    "shio_ramen_cogs = shio_ramen_cost*shio_ramen_qty\n",
    "miso_crab_ramen_cogs = miso_crab_ramen_cost*miso_crab_ramen_qty\n",
    "vegetarian_spicy_miso_cogs = vegetarian_spicy_miso_cost*vegetarian_spicy_miso_qty\n",
    "soft_shell_miso_crab_ramen_cogs = soft_shell_miso_crab_ramen_cost*soft_shell_miso_crab_ramen_qty\n",
    "tori_paitan_cogs = tori_paitan_cost*tori_paitan_qty\n",
    "tonkotsu_ramen_cogs = tonkotsu_ramen_cost*tonkotsu_ramen_qty\n",
    "burnt_garlic_tonkotsu_ramen_cogs = burnt_garlic_tonkotsu_ramen_cost*burnt_garlic_tonkotsu_ramen_qty\n",
    "vegetarian_curry_king_trumpet_cogs = vegetarian_curry_king_trumpet_cost*vegetarian_curry_king_trumpet_qty\n",
    "truffle_butter_ramen_cogs = truffle_butter_ramen_cost*truffle_butter_ramen_qty\n",
    "\n",
    "\n"
   ]
  },
  {
   "cell_type": "code",
   "execution_count": 71,
   "metadata": {},
   "outputs": [
    {
     "name": "stdout",
     "output_type": "stream",
     "text": [
      "{'01-count': 9238, '02-rev': 110856, '03-cogs': 46190}\n",
      "{'01-count': 8982, '02-rev': 125748, '03-cogs': 62874}\n"
     ]
    }
   ],
   "source": [
    "#assign key/value to the dictionaries\n",
    "\n",
    "spicy_miso_ramen_metrics['03-cogs'] = spicy_miso_ramen_cogs\n",
    "nagomi_shoyu_metrics['03-cogs'] = nagomi_shoyu_cogs\n",
    "shio_ramen_metrics['03-cogs'] = shio_ramen_cogs\n",
    "miso_crab_ramen_metrics['03-cogs'] = miso_crab_ramen_cogs\n",
    "vegetarian_spicy_metrics['03-cogs'] = vegetarian_spicy_miso_cogs\n",
    "soft_shell_miso_crab_metrics['03-cogs'] = soft_shell_miso_crab_ramen_cogs\n",
    "tori_paitan_qty_metrics['03-cogs'] = tori_paitan_cogs\n",
    "tonkotsu_ramen_metrics['03-cogs'] = tonkotsu_ramen_cogs\n",
    "burnt_garlic_tonkotsu_ramen_metrics['03-cogs'] = burnt_garlic_tonkotsu_ramen_cogs\n",
    "vegetarian_curry_king_trumpet_metrics['03-cogs'] = vegetarian_curry_king_trumpet_cogs\n",
    "truffle_butter_ramen_metrics['03-cogs'] = truffle_butter_ramen_cogs\n",
    "\n",
    "#check first and last\n",
    "print(spicy_miso_ramen_metrics)\n",
    "print(truffle_butter_ramen_metrics)"
   ]
  },
  {
   "cell_type": "code",
   "execution_count": 72,
   "metadata": {},
   "outputs": [],
   "source": [
    "#compute profits for each ramen type, revs - cogs\n",
    "\n",
    "spicy_miso_ramen_profits = spicy_miso_ramen_rev - spicy_miso_ramen_cogs\n",
    "nagomi_shoyu_profits = nagomi_shoyu_rev - nagomi_shoyu_cogs\n",
    "shio_ramen_profits = shio_ramen_rev - shio_ramen_cogs\n",
    "miso_crab_ramen_profits = miso_crab_ramen_rev - miso_crab_ramen_cogs\n",
    "vegetarian_spicy_miso_profits = vegetarian_spicy_miso_rev - vegetarian_spicy_miso_cogs\n",
    "soft_shell_miso_crab_ramen_profits = soft_shell_miso_crab_ramen_rev - soft_shell_miso_crab_ramen_cogs\n",
    "tori_paitan_profits = tori_paitan_rev - tori_paitan_cogs\n",
    "tonkotsu_ramen_profits = tonkotsu_ramen_rev - tonkotsu_ramen_cogs\n",
    "burnt_garlic_tonkotsu_ramen_profits = burnt_garlic_tonkotsu_ramen_rev - burnt_garlic_tonkotsu_ramen_cogs\n",
    "vegetarian_curry_king_trumpet_profits = vegetarian_curry_king_trumpet_rev - vegetarian_curry_king_trumpet_cogs\n",
    "truffle_butter_ramen_profits = truffle_butter_ramen_rev - truffle_butter_ramen_cogs\n",
    "\n"
   ]
  },
  {
   "cell_type": "code",
   "execution_count": 75,
   "metadata": {},
   "outputs": [
    {
     "name": "stdout",
     "output_type": "stream",
     "text": [
      "{'01-count': 9238, '02-rev': 110856, '03-cogs': 46190, '04-profits': 64666}\n",
      "{'01-count': 8982, '02-rev': 125748, '03-cogs': 62874, '04-profits': 62874}\n"
     ]
    }
   ],
   "source": [
    "#assign key/value to the dictionaries\n",
    "\n",
    "spicy_miso_ramen_metrics['04-profits'] = spicy_miso_ramen_profits\n",
    "nagomi_shoyu_metrics['04-profits'] = nagomi_shoyu_profits\n",
    "shio_ramen_metrics['04-profits'] = shio_ramen_profits\n",
    "miso_crab_ramen_metrics['04-profits'] = miso_crab_ramen_profits\n",
    "vegetarian_spicy_metrics['04-profits'] = vegetarian_spicy_miso_profits\n",
    "soft_shell_miso_crab_metrics['04-profits'] = soft_shell_miso_crab_ramen_profits\n",
    "tori_paitan_qty_metrics['04-profits'] = tori_paitan_profits\n",
    "tonkotsu_ramen_metrics['04-profits'] = tonkotsu_ramen_profits\n",
    "burnt_garlic_tonkotsu_ramen_metrics['04-profits'] = burnt_garlic_tonkotsu_ramen_profits\n",
    "vegetarian_curry_king_trumpet_metrics['04-profits'] = vegetarian_curry_king_trumpet_profits\n",
    "truffle_butter_ramen_metrics['04-profits'] = truffle_butter_ramen_profits\n",
    "\n",
    "#check first and last\n",
    "print(spicy_miso_ramen_metrics)\n",
    "print(truffle_butter_ramen_metrics)"
   ]
  },
  {
   "cell_type": "code",
   "execution_count": 77,
   "metadata": {},
   "outputs": [
    {
     "name": "stdout",
     "output_type": "stream",
     "text": [
      "{'spicy_miso_ramen': {'01-count': 9238, '02-rev': 110856, '03-cogs': 46190, '04-profits': 64666}, 'nagomi_shoyu': {'01-count': 9132, '02-rev': 100452, '03-cogs': 45660, '04-profits': 54792}, 'shio_ramen': {'01-count': 9180, '02-rev': 100980, '03-cogs': 45900, '04-profits': 55080}, 'miso_crab_ramen': {'01-count': 8890, '02-rev': 106680, '03-cogs': 53340, '04-profits': 53340}, 'vegetarian_spicy': {'01-count': 9216, '02-rev': 110592, '03-cogs': 46080, '04-profits': 64512}, 'soft_shell_miso_crab': {'01-count': 9130, '02-rev': 127820, '03-cogs': 63910, '04-profits': 63910}, 'tori_paitan_ramen': {'01-count': 9156, '02-rev': 119028, '03-cogs': 54936, '04-profits': 64092}, 'tonkotsu_ramen': {'01-count': 9288, '02-rev': 120744, '03-cogs': 55728, '04-profits': 65016}, 'burnt_garlic_tonkotsu_ramen': {'01-count': 9070, '02-rev': 126980, '03-cogs': 54420, '04-profits': 72560}, 'vegetarian_curry_king_trumpet_mushroom': {'01-count': 8824, '02-rev': 114712, '03-cogs': 61768, '04-profits': 52944}, 'truffle_butter_ramen': {'01-count': 8982, '02-rev': 125748, '03-cogs': 62874, '04-profits': 62874}, 'vegetarian_spicy_miso': {'01-count': 9216, '02-rev': 110592, '03-cogs': 46080, '04-profits': 64512}}\n"
     ]
    }
   ],
   "source": [
    "#add metrics to report dictionary\n",
    "\n",
    "report['spicy_miso_ramen']= spicy_miso_ramen_metrics\n",
    "report['tori_paitan_ramen'] = tori_paitan_qty_metrics\n",
    "report['truffle_butter_ramen'] = truffle_butter_ramen_metrics\n",
    "report['tonkotsu_ramen'] = tonkotsu_ramen_metrics\n",
    "report['vegetarian_spicy_miso'] = vegetarian_spicy_metrics\n",
    "report['shio_ramen'] = shio_ramen_metrics\n",
    "report['miso_crab_ramen'] = miso_crab_ramen_metrics\n",
    "report['nagomi_shoyu'] = nagomi_shoyu_metrics\n",
    "report['soft_shell_miso_crab'] = soft_shell_miso_crab_metrics\n",
    "report['burnt_garlic_tonkotsu_ramen'] = burnt_garlic_tonkotsu_ramen_metrics\n",
    "report['vegetarian_curry_king_trumpet_mushroom'] = vegetarian_curry_king_trumpet_metrics\n",
    "\n",
    "\n",
    "\n",
    "print(report)"
   ]
  },
  {
   "cell_type": "code",
   "execution_count": 78,
   "metadata": {},
   "outputs": [],
   "source": [
    "from pathlib import Path\n",
    "output_path = Path('homework2_report.txt')"
   ]
  },
  {
   "cell_type": "code",
   "execution_count": 82,
   "metadata": {},
   "outputs": [],
   "source": [
    "with open (output_path,'w')as file:\n",
    "    file.write(\"Homework Report\\n\")\n",
    "    \n",
    "    file.write(\"{'spicy_miso_ramen': {'01-count': 9238, '02-rev': 110856, '03-cogs': 46190, '04-profits': 64666}, 'nagomi_shoyu': {'01-count': 9132, '02-rev': 100452, '03-cogs': 45660, '04-profits': 54792}, 'shio_ramen': {'01-count': 9180, '02-rev': 100980, '03-cogs': 45900, '04-profits': 55080}, 'miso_crab_ramen': {'01-count': 8890, '02-rev': 106680, '03-cogs': 53340, '04-profits': 53340}, 'vegetarian_spicy': {'01-count': 9216, '02-rev': 110592, '03-cogs': 46080, '04-profits': 64512}, 'soft_shell_miso_crab': {'01-count': 9130, '02-rev': 127820, '03-cogs': 63910, '04-profits': 63910}, 'tori_paitan_ramen': {'01-count': 9156, '02-rev': 119028, '03-cogs': 54936, '04-profits': 64092}, 'tonkotsu_ramen': {'01-count': 9288, '02-rev': 120744, '03-cogs': 55728, '04-profits': 65016}, 'burnt_garlic_tonkotsu_ramen': {'01-count': 9070, '02-rev': 126980, '03-cogs': 54420, '04-profits': 72560}, 'vegetarian_curry_king_trumpet_mushroom': {'01-count': 8824, '02-rev': 114712, '03-cogs': 61768, '04-profits': 52944}, 'truffle_butter_ramen': {'01-count': 8982, '02-rev': 125748, '03-cogs': 62874, '04-profits': 62874}, 'vegetarian_spicy_miso': {'01-count': 9216, '02-rev': 110592, '03-cogs': 46080, '04-profits': 64512}}\")"
   ]
  },
  {
   "cell_type": "code",
   "execution_count": null,
   "metadata": {},
   "outputs": [],
   "source": []
  }
 ],
 "metadata": {
  "kernelspec": {
   "display_name": "Python 3",
   "language": "python",
   "name": "python3"
  },
  "language_info": {
   "codemirror_mode": {
    "name": "ipython",
    "version": 3
   },
   "file_extension": ".py",
   "mimetype": "text/x-python",
   "name": "python",
   "nbconvert_exporter": "python",
   "pygments_lexer": "ipython3",
   "version": "3.7.6"
  }
 },
 "nbformat": 4,
 "nbformat_minor": 4
}
